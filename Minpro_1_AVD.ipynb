{
  "nbformat": 4,
  "nbformat_minor": 0,
  "metadata": {
    "colab": {
      "provenance": [],
      "mount_file_id": "10cHDbwo3RN-e6FN1ZW9G5dA389FutiB3",
      "authorship_tag": "ABX9TyPMXGckQqgbJsQFAaBSHBNC",
      "include_colab_link": true
    },
    "kernelspec": {
      "name": "python3",
      "display_name": "Python 3"
    },
    "language_info": {
      "name": "python"
    }
  },
  "cells": [
    {
      "cell_type": "markdown",
      "metadata": {
        "id": "view-in-github",
        "colab_type": "text"
      },
      "source": [
        "<a href=\"https://colab.research.google.com/github/Maifariza/Praktikum_Analitik_dan_Visualisasi_Data/blob/main/Minpro_1_AVD.ipynb\" target=\"_parent\"><img src=\"https://colab.research.google.com/assets/colab-badge.svg\" alt=\"Open In Colab\"/></a>"
      ]
    },
    {
      "cell_type": "markdown",
      "source": [
        "**Obesity prediction \"Obesity Prediction Dataset: Lifestyle & Health Analysis\"**"
      ],
      "metadata": {
        "id": "ZOjbb70pvZtv"
      }
    },
    {
      "cell_type": "markdown",
      "source": [
        "\n",
        "\n",
        "---\n",
        "\n",
        "**Nama : Maifariza Aulia Dyas**\n",
        "\n",
        "**NIM  : 2409116032**\n",
        "\n",
        "**Sistem Informasi A 2024**\n",
        "\n",
        "---\n",
        "\n",
        "\n",
        "\n"
      ],
      "metadata": {
        "id": "duwhqQCnE5ZD"
      }
    },
    {
      "cell_type": "markdown",
      "source": [
        "# **BUSINESS UNDERSTANDING**"
      ],
      "metadata": {
        "id": "X1aOaGRossp0"
      }
    },
    {
      "cell_type": "markdown",
      "source": [
        "# Business Objective"
      ],
      "metadata": {
        "id": "0ztYLVCXtGlt"
      }
    },
    {
      "cell_type": "markdown",
      "source": [
        "Tujuan utama proyek ini adalah untuk memahami faktor-faktor yang berkontribusi terhadap peningkatan obesitas guna mendukung strategi pencegahan dan penanganan obesitas yang lebih efektif. Analisis ini mencakup identifikasi hubungan antara usia, jenis kelamin, Berat badan, Tinggi badan, BMI, tingkat aktivitas fisik, dan kategori obesitas. Selain itu, proyek ini bertujuan untuk memberikan wawasan bagi sektor kesehatan dalam meningkatkan kesadaran masyarakat mengenai pola hidup sehat serta mendukung kebijakan kesehatan berbasis data."
      ],
      "metadata": {
        "id": "YvhkR3eotONl"
      }
    },
    {
      "cell_type": "markdown",
      "source": [
        "# Assess Situation"
      ],
      "metadata": {
        "id": "VrLPk0wPtoSN"
      }
    },
    {
      "cell_type": "markdown",
      "source": [
        "Situasi bisnis yang mendasari analisis ini adalah meningkatnya angka obesitas secara global, yang menjadi perhatian utama di sektor kesehatan masyarakat. Gaya hidup yang kurang aktif, pola makan yang kurang sehat, serta faktor demografi tertentu dapat berkontribusi terhadap peningkatan obesitas. Oleh karena itu, analisis data menjadi langkah penting dalam mengidentifikasi pola obesitas berdasarkan faktor-faktor utama, sehingga dapat membantu dalam pengambilan keputusan terkait program intervensi dan kebijakan kesehatan yang lebih baik."
      ],
      "metadata": {
        "id": "EJoHwWQTtxDn"
      }
    },
    {
      "cell_type": "markdown",
      "source": [
        "# Data Mining Goals"
      ],
      "metadata": {
        "id": "RCc28Uq6t5u_"
      }
    },
    {
      "cell_type": "markdown",
      "source": [
        "Mengidentifikasi pola dan faktor utama yang berkontribusi terhadap obesitas dengan menganalisis hubungan antara usia, jenis kelamin, tinggi badan, berat badan, BMI, tingkat aktivitas fisik, dan kategori obesitas. Analisis ini bertujuan untuk memberikan pemahaman yang lebih dalam terhadap faktor risiko obesitas serta mendukung pengembangan strategi pencegahan yang lebih efektif melalui pendekatan berbasis data."
      ],
      "metadata": {
        "id": "BBO2czEEt-_W"
      }
    },
    {
      "cell_type": "markdown",
      "source": [
        "# Project Plan"
      ],
      "metadata": {
        "id": "SkDxgTRa8Ean"
      }
    },
    {
      "cell_type": "markdown",
      "source": [
        "1.   Pengumpulan Data, menggunakan datsets yang berisi informasi tentang usia, jenis kelamin, tinggi badan, berat badan, BMI, tingkat aktivitas fisik, dan kategori obesitas.\n",
        "2.   Explorasi Data, dengan menganalisis atau memahami pola dalam datasets.\n",
        "3.   Pemodelan Data, dengan mengidentifikasi faktor yang berkontribusi terhadap obesitas.\n",
        "4.   Interpretasi Hasil, menyajikan hasil analisis.\n",
        "5.   Rekomendasi, menyusun rekomendasi untuk membantu strategi penanganan obesitas yang lebih efektif.\n"
      ],
      "metadata": {
        "id": "tVjT8IGq8Jqi"
      }
    },
    {
      "cell_type": "markdown",
      "source": [
        "#### **STUDI KASUS**\n"
      ],
      "metadata": {
        "id": "iP3lQkgkx8ET"
      }
    },
    {
      "cell_type": "markdown",
      "source": [
        "\n",
        "\n",
        "> Latar Belakang\n",
        "\n"
      ],
      "metadata": {
        "id": "Zl-c5DHzyQYN"
      }
    },
    {
      "cell_type": "markdown",
      "source": [
        "Andi, seorang pria berusia 35 tahun, mengalami obesitas dengan tinggi badan 170 cm dan berat badan 92,48 kg. Sebagai karyawan kantoran, ia memiliki gaya hidup yang kurang aktif karena sebagian besar waktunya dihabiskan di depan komputer. Pola makannya juga kurang sehat, sering mengonsumsi makanan cepat saji dan minuman manis.\n",
        "\n",
        "Akibatnya, dalam enam bulan terakhir, ia mengalami berbagai masalah kesehatan, seperti mudah lelah, nyeri sendi, dan peningkatan tekanan darah. Dokter memperingatkan bahwa jika pola hidupnya tidak segera diubah, risiko terkena penyakit serius seperti diabetes tipe 2, hipertensi, dan penyakit jantung akan semakin tinggi."
      ],
      "metadata": {
        "id": "PkHzrI3vyUf0"
      }
    },
    {
      "cell_type": "markdown",
      "source": [
        "\n",
        "\n",
        "> Permasalahan Utama\n",
        "\n"
      ],
      "metadata": {
        "id": "7q4z_Ms9yuOe"
      }
    },
    {
      "cell_type": "markdown",
      "source": [
        "Bagaimana cara memprediksi kategori obesitas terhadap kesehatan Andi dan rekomendasi untuk Andi berdasarkan faktor-faktor seperti usia, tinggi badan, berat badan, tingkat aktivitas fisik, dan pola makan?"
      ],
      "metadata": {
        "id": "44ECLVVoy1NH"
      }
    },
    {
      "cell_type": "markdown",
      "source": [
        "\n",
        "\n",
        "> Prediksi Kategori Obesitas\n",
        "\n"
      ],
      "metadata": {
        "id": "24h96uxbz4EZ"
      }
    },
    {
      "cell_type": "markdown",
      "source": [
        "  Data Andi:\n",
        "\n",
        "*   Usia : 35 Tahun\n",
        "*   Jenis Kelamin : Pria\n",
        "*   Tinggi Badan : 170 cm\n",
        "*   Berat Badan : 92,48\n",
        "*   Tingkat Aktivitas Fisik : Rendah\n",
        "*   Pola Makan : Tidak Sehat (Frekuensi konsumsi fast food tinggi)\n",
        "\n",
        "\n"
      ],
      "metadata": {
        "id": "XjNoPDg30H5I"
      }
    },
    {
      "cell_type": "markdown",
      "source": [
        "Menghitung BMI\n",
        "\n",
        "**Rumus BMI** = Berat Badan (kg) : Tinggi (m)2\n",
        "\n",
        "Setelah dihitung menggunakan rumus diatas, didapat BMI Andi diperkirakan 32."
      ],
      "metadata": {
        "id": "-J7EjTE73L5F"
      }
    },
    {
      "cell_type": "markdown",
      "source": [
        "Menurut WHO Classification:\n",
        "\n",
        "*   BMI 18.5 - 24.9 → Normal Weight\n",
        "*   BMI 25.0 - 29.9 → Overweight\n",
        "*   BMI ≥ 30 → Obese\n",
        "\n",
        "\n"
      ],
      "metadata": {
        "id": "KrkJwjybHpy3"
      }
    },
    {
      "cell_type": "markdown",
      "source": [
        "Berdasarkan data, BMI di angka 32 Andi masuk dalam kategori **Obese**."
      ],
      "metadata": {
        "id": "IUsVOzex3NIv"
      }
    },
    {
      "cell_type": "markdown",
      "source": [
        "\n",
        "\n",
        "> Rekomendasi\n",
        "\n"
      ],
      "metadata": {
        "id": "gMg_UXUG3qbx"
      }
    },
    {
      "cell_type": "markdown",
      "source": [
        "\n",
        "*   Meningkatkan aktivitas fisik minimal 150 menit latihan sedang per minggu (jalan cepat, jogging, bersepeda)\n",
        "*   Perbaikan pola makan dengan mengurangi konsumsi fast food dan minuman manis, serta tingkatkan konsumsi serat dan protein\n",
        "*   Menargetkan penurunan 5-10% berat badan dalam 6 bulan.\n",
        "\n"
      ],
      "metadata": {
        "id": "VrusOReH333s"
      }
    },
    {
      "cell_type": "markdown",
      "source": [
        "\n",
        "\n",
        "> Kesimpulan\n",
        "\n"
      ],
      "metadata": {
        "id": "sHpyKR1aG4Zu"
      }
    },
    {
      "cell_type": "markdown",
      "source": [
        "Berdasarkan analisis, Andi masuk ke dalam kategori obese, yang dapat meningkatkan risiko berbagai penyakit. Dengan perubahan gaya hidup yang tepat, Andi dapat mengurangi risiko kesehatannya di masa depan."
      ],
      "metadata": {
        "id": "YM0jlHJTG_1r"
      }
    },
    {
      "cell_type": "code",
      "source": [],
      "metadata": {
        "id": "RP2V11e_G_QQ"
      },
      "execution_count": null,
      "outputs": []
    }
  ]
}